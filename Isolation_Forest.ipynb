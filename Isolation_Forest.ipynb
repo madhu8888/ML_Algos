{
  "nbformat": 4,
  "nbformat_minor": 0,
  "metadata": {
    "colab": {
      "provenance": []
    },
    "kernelspec": {
      "name": "python3",
      "display_name": "Python 3"
    },
    "language_info": {
      "name": "python"
    }
  },
  "cells": [
    {
      "cell_type": "code",
      "source": [
        "!pip install pyod"
      ],
      "metadata": {
        "id": "NNRwFJJG-BJw"
      },
      "execution_count": null,
      "outputs": []
    },
    {
      "cell_type": "code",
      "execution_count": 26,
      "metadata": {
        "id": "8zjHv1W4AKBe"
      },
      "outputs": [],
      "source": [
        "import pandas as pd\n",
        "from pyod.models.iforest import IForest\n",
        "import matplotlib.pyplot as plt\n",
        "import numpy as np\n",
        "from sklearn.metrics import classification_report,accuracy_score"
      ]
    },
    {
      "cell_type": "code",
      "source": [
        "credit_data = pd.read_csv(\"/content/creditcard.csv\" , on_bad_lines='skip')"
      ],
      "metadata": {
        "id": "INrA1LaE-ruH",
        "colab": {
          "base_uri": "https://localhost:8080/"
        },
        "outputId": "65e82adf-b8af-46df-886a-9d77df2e954d"
      },
      "execution_count": 11,
      "outputs": [
        {
          "output_type": "stream",
          "name": "stderr",
          "text": [
            "<ipython-input-11-9fcf1ac25302>:1: DtypeWarning: Columns (5,14) have mixed types. Specify dtype option on import or set low_memory=False.\n",
            "  credit_data = pd.read_csv(\"/content/creditcard.csv\" , on_bad_lines='skip')\n"
          ]
        }
      ]
    },
    {
      "cell_type": "code",
      "source": [
        "credit_data.head()"
      ],
      "metadata": {
        "id": "r3nKJYsP_RB3"
      },
      "execution_count": null,
      "outputs": []
    },
    {
      "cell_type": "code",
      "source": [
        "# dataset info\n",
        "credit_data.info()"
      ],
      "metadata": {
        "id": "mFv38y5N_Wgo"
      },
      "execution_count": null,
      "outputs": []
    },
    {
      "cell_type": "code",
      "source": [
        "# Check for null values\n",
        "credit_data.isnull().sum()"
      ],
      "metadata": {
        "id": "_0s5aQExB2DP"
      },
      "execution_count": null,
      "outputs": []
    },
    {
      "cell_type": "code",
      "source": [
        "# drop rows having null values\n",
        "credit_data = credit_data.dropna(axis=0)"
      ],
      "metadata": {
        "id": "RjSpBqRdCOxX"
      },
      "execution_count": 15,
      "outputs": []
    },
    {
      "cell_type": "code",
      "source": [
        "count_class = pd.value_counts(credit_data['Class'], sort = True)\n",
        "count_class.plot(kind = 'bar', rot=0)\n",
        "plt.title(\"Transaction Class Distribution\")\n",
        "plt.xticks(range(2), [\"Normal\", \"Fraud\"])\n",
        "plt.xlabel(\"Class\")\n",
        "plt.ylabel(\"Frequency\")"
      ],
      "metadata": {
        "id": "niVsNK4sCgY5",
        "colab": {
          "base_uri": "https://localhost:8080/",
          "height": 490
        },
        "outputId": "bc9c38d5-8549-4daa-9850-e9ba4a7954b8"
      },
      "execution_count": 16,
      "outputs": [
        {
          "output_type": "execute_result",
          "data": {
            "text/plain": [
              "Text(0, 0.5, 'Frequency')"
            ]
          },
          "metadata": {},
          "execution_count": 16
        },
        {
          "output_type": "display_data",
          "data": {
            "text/plain": [
              "<Figure size 640x480 with 1 Axes>"
            ],
            "image/png": "[encoded data removed]"
          },
          "metadata": {}
        }
      ]
    },
    {
      "cell_type": "code",
      "source": [
        "# Get the Fraud and the normal dataset \n",
        "fraud = credit_data[credit_data['Class']==1]\n",
        "normal = credit_data[credit_data['Class']==0]"
      ],
      "metadata": {
        "id": "ynW6z_PTDEY_"
      },
      "execution_count": 17,
      "outputs": []
    },
    {
      "cell_type": "code",
      "source": [
        "print(fraud.shape, normal.shape)"
      ],
      "metadata": {
        "colab": {
          "base_uri": "https://localhost:8080/"
        },
        "id": "vZrnjptCu2Q9",
        "outputId": "2118c44f-9074-42be-83ae-5d3ed1ca5dfd"
      },
      "execution_count": 18,
      "outputs": [
        {
          "output_type": "stream",
          "name": "stdout",
          "text": [
            "(145, 31) (43501, 31)\n"
          ]
        }
      ]
    },
    {
      "cell_type": "code",
      "source": [
        "outliers_fraction = float(len(fraud)/len(normal))\n",
        "print(outliers_fraction)"
      ],
      "metadata": {
        "colab": {
          "base_uri": "https://localhost:8080/"
        },
        "id": "o7QyO3I3EJ2S",
        "outputId": "73a406af-457a-4c4a-a4e2-09eb588b5cb2"
      },
      "execution_count": 19,
      "outputs": [
        {
          "output_type": "stream",
          "name": "stdout",
          "text": [
            "0.0033332567067423735\n"
          ]
        }
      ]
    },
    {
      "cell_type": "code",
      "source": [
        "Fraud = credit_data[credit_data['Class']==1]\n",
        "Valid = credit_data[credit_data['Class']==0]\n",
        "outlier_fraction = len(Fraud)/float(len(Valid))"
      ],
      "metadata": {
        "id": "YYYj9JMtg56-"
      },
      "execution_count": 21,
      "outputs": []
    },
    {
      "cell_type": "code",
      "source": [
        "#Create independent and Dependent Features\n",
        "columns = credit_data.columns.tolist()\n",
        "\n",
        "# Filter the columns to remove data we do not want \n",
        "columns = [c for c in columns if c not in [\"Class\"]]\n",
        "# Store the variable we are predicting \n",
        "target = \"Class\"\n",
        "# Define a random state \n",
        "state = np.random.RandomState(42)\n",
        "\n",
        "X = credit_data[columns]\n",
        "Y = credit_data[target]\n",
        "\n",
        "X_outliers = state.uniform(low=0, high=1, size=(X.shape[0], X.shape[1]))\n",
        "print(X.shape)\n",
        "print(Y.shape)"
      ],
      "metadata": {
        "colab": {
          "base_uri": "https://localhost:8080/"
        },
        "id": "4KQiaZUvhBkR",
        "outputId": "a2f51d0d-9824-4db2-bfc1-a7eeedf15f96"
      },
      "execution_count": 23,
      "outputs": [
        {
          "output_type": "stream",
          "name": "stdout",
          "text": [
            "(43646, 30)\n",
            "(43646,)\n"
          ]
        }
      ]
    },
    {
      "cell_type": "code",
      "source": [
        "if_clf = IForest(contamination=outliers_fraction,random_state=42, n_estimators=100, max_samples=128)"
      ],
      "metadata": {
        "id": "5hNfQwCsEbei"
      },
      "execution_count": 25,
      "outputs": []
    },
    {
      "cell_type": "code",
      "source": [
        "if_clf.fit(X)\n",
        "scores_prediction = if_clf.decision_function(X)\n",
        "y_pred = if_clf.predict(X)"
      ],
      "metadata": {
        "colab": {
          "base_uri": "https://localhost:8080/"
        },
        "id": "vUp8T7PriJd8",
        "outputId": "f5313b3d-3396-40b8-ed1b-bd926a32627c"
      },
      "execution_count": 27,
      "outputs": [
        {
          "output_type": "stream",
          "name": "stderr",
          "text": [
            "/usr/local/lib/python3.10/dist-packages/sklearn/base.py:432: UserWarning: X has feature names, but IsolationForest was fitted without feature names\n",
            "  warnings.warn(\n",
            "/usr/local/lib/python3.10/dist-packages/sklearn/base.py:432: UserWarning: X has feature names, but IsolationForest was fitted without feature names\n",
            "  warnings.warn(\n"
          ]
        }
      ]
    },
    {
      "cell_type": "code",
      "source": [
        "import warnings\n",
        "warnings.filterwarnings('always')"
      ],
      "metadata": {
        "id": "8jrtwrHqkP0w"
      },
      "execution_count": 30,
      "outputs": []
    },
    {
      "cell_type": "code",
      "source": [
        "#Reshape the prediction values to 0 for Valid transactions , 1 for Fraud transactions\n",
        "y_pred[y_pred == 1] = 0\n",
        "y_pred[y_pred == -1] = 1\n",
        "n_errors = (y_pred != Y).sum()\n",
        "# Run Classification Metrics\n",
        "print(\"{}: {}\".format(\"Isolation Forest\",n_errors))\n",
        "print(\"Accuracy Score :\")\n",
        "print(accuracy_score(Y,y_pred))\n",
        "print(\"Classification Report :\")\n",
        "print(classification_report(Y,y_pred))"
      ],
      "metadata": {
        "colab": {
          "base_uri": "https://localhost:8080/"
        },
        "id": "bFrEEbb9jE2h",
        "outputId": "08089cdb-ad00-4397-e888-7104835fba8d"
      },
      "execution_count": 31,
      "outputs": [
        {
          "output_type": "stream",
          "name": "stdout",
          "text": [
            "Isolation Forest: 145\n",
            "Accuracy Score :\n",
            "0.9966778169820831\n",
            "Classification Report :\n",
            "              precision    recall  f1-score   support\n",
            "\n",
            "         0.0       1.00      1.00      1.00     43501\n",
            "         1.0       0.00      0.00      0.00       145\n",
            "\n",
            "    accuracy                           1.00     43646\n",
            "   macro avg       0.50      0.50      0.50     43646\n",
            "weighted avg       0.99      1.00      1.00     43646\n",
            "\n"
          ]
        },
        {
          "output_type": "stream",
          "name": "stderr",
          "text": [
            "/usr/local/lib/python3.10/dist-packages/ipykernel/ipkernel.py:283: DeprecationWarning: `should_run_async` will not call `transform_cell` automatically in the future. Please pass the result to `transformed_cell` argument and any exception that happen during thetransform in `preprocessing_exc_tuple` in IPython 7.17 and above.\n",
            "  and should_run_async(code)\n",
            "/usr/local/lib/python3.10/dist-packages/sklearn/metrics/_classification.py:1344: UndefinedMetricWarning: Precision and F-score are ill-defined and being set to 0.0 in labels with no predicted samples. Use `zero_division` parameter to control this behavior.\n",
            "  _warn_prf(average, modifier, msg_start, len(result))\n",
            "/usr/local/lib/python3.10/dist-packages/sklearn/metrics/_classification.py:1344: UndefinedMetricWarning: Precision and F-score are ill-defined and being set to 0.0 in labels with no predicted samples. Use `zero_division` parameter to control this behavior.\n",
            "  _warn_prf(average, modifier, msg_start, len(result))\n",
            "/usr/local/lib/python3.10/dist-packages/sklearn/metrics/_classification.py:1344: UndefinedMetricWarning: Precision and F-score are ill-defined and being set to 0.0 in labels with no predicted samples. Use `zero_division` parameter to control this behavior.\n",
            "  _warn_prf(average, modifier, msg_start, len(result))\n"
          ]
        }
      ]
    }
  ]
}